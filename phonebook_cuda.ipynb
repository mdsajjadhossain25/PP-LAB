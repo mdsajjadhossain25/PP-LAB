{
  "nbformat": 4,
  "nbformat_minor": 0,
  "metadata": {
    "colab": {
      "provenance": [],
      "gpuType": "T4"
    },
    "kernelspec": {
      "name": "python3",
      "display_name": "Python 3"
    },
    "language_info": {
      "name": "python"
    },
    "accelerator": "GPU"
  },
  "cells": [
    {
      "cell_type": "code",
      "execution_count": null,
      "metadata": {
        "colab": {
          "base_uri": "https://localhost:8080/"
        },
        "id": "GRxhG148Q1UU",
        "outputId": "15660ac7-dcc2-4757-b42a-e45edca0c8a7"
      },
      "outputs": [
        {
          "output_type": "stream",
          "name": "stdout",
          "text": [
            "Writing phonebook_search.cu\n"
          ]
        }
      ],
      "source": [
        "%%writefile phonebook_search.cu\n",
        "#include <bits/stdc++.h>\n",
        "using namespace std;\n",
        "#include <cuda.h>\n",
        "\n",
        "struct Contact{\n",
        "    char name[65];\n",
        "    char phone_number[65];\n",
        "};\n",
        "\n",
        "\n",
        "string getInput(ifstream& file){\n",
        "    string ans;\n",
        "    char c;\n",
        "    int readSuru = 0;\n",
        "    while(file.get(c)){\n",
        "        if(c == '\\\"'){\n",
        "            if(readSuru == 1) break;\n",
        "            readSuru = 1;\n",
        "        }else{\n",
        "            if(readSuru){\n",
        "                ans.push_back(c);\n",
        "            }\n",
        "        }\n",
        "    }\n",
        "    return ans;\n",
        "}\n",
        "\n",
        "__device__ bool check(char* str1, char* str2){\n",
        "    for(int i = 0; str1[i] != '\\0'; i++){\n",
        "        int flag = 1;\n",
        "        for(int j = 0; str2[j] != '\\0' ; j++){\n",
        "            if(str1[i + j] != str2[j]){\n",
        "                flag = 0;\n",
        "                break;\n",
        "            }\n",
        "        }\n",
        "        if(flag == 1) return true;\n",
        "    }\n",
        "    return false;\n",
        "}\n",
        "\n",
        "\n",
        "__global__ void myKernel(Contact* phoneBook, char* pat, int offset){\n",
        "    int threadNumber = threadIdx.x + offset;\n",
        "    if(check(phoneBook[threadNumber].name, pat)){\n",
        "        printf(\"%s %s\\n\", phoneBook[threadNumber].name, phoneBook[threadNumber].phone_number);\n",
        "    }\n",
        "}\n",
        "\n",
        "\n",
        "\n",
        "int main(int argc, char* argv[])\n",
        "{\n",
        "    int threadLimit = atoi(argv[2]);\n",
        "\n",
        "    ifstream myfile(\"/content/drive/MyDrive/labtest_dataset1.txt\");\n",
        "    vector<Contact> phoneBook;\n",
        "\n",
        "    int count = 0;\n",
        "\n",
        "    while(myfile.peek() != EOF){\n",
        "\n",
        "        if(count > 10000) break;\n",
        "        count++;\n",
        "\n",
        "        string name = getInput(myfile);\n",
        "        string phoneNum = getInput(myfile);\n",
        "\n",
        "        Contact c;\n",
        "        strcpy(c.name, name.c_str());\n",
        "        strcpy(c.phone_number, phoneNum.c_str());\n",
        "\n",
        "        phoneBook.push_back(c);\n",
        "    }\n",
        "\n",
        "    string search_name = argv[1];\n",
        "    char pat[65];\n",
        "    strcpy(pat, search_name.c_str());\n",
        "\n",
        "\n",
        "    char* d_pat;\n",
        "    cudaMalloc(&d_pat, 65); //memory allocation\n",
        "    cudaMemcpy(d_pat, pat, 65, cudaMemcpyHostToDevice); //copying to device\n",
        "\n",
        "    int n = phoneBook.size();\n",
        "    Contact* d_phoneBook;\n",
        "    cudaMalloc(&d_phoneBook, n*sizeof(Contact));\n",
        "    cudaMemcpy(d_phoneBook, phoneBook.data(), n * sizeof(Contact), cudaMemcpyHostToDevice);\n",
        "\n",
        "\n",
        "    int bakiAche = n;\n",
        "    int offset = 0;\n",
        "    while(bakiAche > 0){\n",
        "        int batchSize = min(threadLimit, bakiAche);\n",
        "        myKernel<<<1,batchSize>>>(d_phoneBook, d_pat, offset);\n",
        "        cudaDeviceSynchronize();\n",
        "\n",
        "        bakiAche -= batchSize;\n",
        "        offset += batchSize;\n",
        "    }\n",
        "\n",
        "}"
      ]
    },
    {
      "cell_type": "code",
      "source": [
        "!nvcc -arch=sm_75 phonebook_search.cu -o phonebook_search"
      ],
      "metadata": {
        "id": "fjzz7jzdckBT"
      },
      "execution_count": null,
      "outputs": []
    },
    {
      "cell_type": "code",
      "source": [
        "!time ./phonebook_search FATEMA 1 > output.txt"
      ],
      "metadata": {
        "colab": {
          "base_uri": "https://localhost:8080/"
        },
        "id": "fCJQzsD2cohj",
        "outputId": "19fdbcd9-10cb-4e18-ad6f-84b634be826d"
      },
      "execution_count": null,
      "outputs": [
        {
          "output_type": "stream",
          "name": "stdout",
          "text": [
            "\n",
            "real\t0m1.333s\n",
            "user\t0m0.161s\n",
            "sys\t0m0.142s\n"
          ]
        }
      ]
    },
    {
      "cell_type": "code",
      "source": [
        "!time ./phonebook_search FATEMA 5 > output.txt"
      ],
      "metadata": {
        "colab": {
          "base_uri": "https://localhost:8080/"
        },
        "id": "72SGkNSLc7DA",
        "outputId": "0238dada-ff85-4f20-adbf-f474ceece485"
      },
      "execution_count": null,
      "outputs": [
        {
          "output_type": "stream",
          "name": "stdout",
          "text": [
            "\n",
            "real\t0m0.225s\n",
            "user\t0m0.068s\n",
            "sys\t0m0.138s\n"
          ]
        }
      ]
    },
    {
      "cell_type": "code",
      "source": [
        "!time ./phonebook_search FATEMA 10 > output.txt"
      ],
      "metadata": {
        "colab": {
          "base_uri": "https://localhost:8080/"
        },
        "id": "7FipXoW2dE7V",
        "outputId": "565025cc-20dc-41f3-a60f-39bb6aa054ac"
      },
      "execution_count": null,
      "outputs": [
        {
          "output_type": "stream",
          "name": "stdout",
          "text": [
            "\n",
            "real\t0m0.175s\n",
            "user\t0m0.056s\n",
            "sys\t0m0.108s\n"
          ]
        }
      ]
    },
    {
      "cell_type": "code",
      "source": [],
      "metadata": {
        "id": "wI6e4g7JdczQ"
      },
      "execution_count": null,
      "outputs": []
    }
  ]
}